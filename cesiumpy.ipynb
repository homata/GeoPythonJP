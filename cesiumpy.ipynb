{
 "cells": [
  {
   "cell_type": "code",
   "execution_count": 0,
   "metadata": {
    "colab": {},
    "colab_type": "code",
    "id": "HO5m2AJcMOog"
   },
   "outputs": [],
   "source": [
    "# projインストール\n",
    "!apt install proj-bin libproj-dev libgeos-dev"
   ]
  },
  {
   "cell_type": "code",
   "execution_count": 1,
   "metadata": {
    "colab": {
     "base_uri": "https://localhost:8080/",
     "height": 126
    },
    "colab_type": "code",
    "executionInfo": {
     "elapsed": 22643,
     "status": "ok",
     "timestamp": 1568467246606,
     "user": {
      "displayName": "Hiroshi Omata",
      "photoUrl": "https://lh3.googleusercontent.com/a-/AAuE7mAmxAiFWXjB1ieYVGAo9GFS1ce4cGSe2i9aE3T6Gw=s64",
      "userId": "13724694233961387380"
     },
     "user_tz": -540
    },
    "id": "Okj_dz2defXL",
    "outputId": "977acac2-fe0a-4173-e759-06e95912efff"
   },
   "outputs": [
    {
     "name": "stdout",
     "output_type": "stream",
     "text": [
      "Go to this URL in a browser: https://accounts.google.com/o/oauth2/auth?client_id=947318989803-6bn6qk8qdgf4n4g3pfee6491hc0brc4i.apps.googleusercontent.com&redirect_uri=urn%3Aietf%3Awg%3Aoauth%3A2.0%3Aoob&scope=email%20https%3A%2F%2Fwww.googleapis.com%2Fauth%2Fdocs.test%20https%3A%2F%2Fwww.googleapis.com%2Fauth%2Fdrive%20https%3A%2F%2Fwww.googleapis.com%2Fauth%2Fdrive.photos.readonly%20https%3A%2F%2Fwww.googleapis.com%2Fauth%2Fpeopleapi.readonly&response_type=code\n",
      "\n",
      "Enter your authorization code:\n",
      "··········\n",
      "Mounted at /content/drive\n"
     ]
    }
   ],
   "source": [
    "# Googleドライブをマウント\n",
    "from google.colab import drive\n",
    "drive.mount('/content/drive')"
   ]
  },
  {
   "cell_type": "code",
   "execution_count": 0,
   "metadata": {
    "colab": {},
    "colab_type": "code",
    "id": "VgueRHMMfB_z"
   },
   "outputs": [],
   "source": [
    "# 日本語フォントをダウンロードする。\n",
    "!apt-get -y install fonts-ipafont-gothic\n",
    "\n",
    "# キャッシュを削除する。\n",
    "!rm /root/.cache/matplotlib/fontList.json　# 旧cache\n",
    "!rm /root/.cache/matplotlib/fontlist-v300.json # 消すべきcache\n",
    "\n",
    "#ここでランタイムを再起動する"
   ]
  },
  {
   "cell_type": "code",
   "execution_count": 0,
   "metadata": {
    "colab": {},
    "colab_type": "code",
    "id": "GqfvGV1W5mLJ"
   },
   "outputs": [],
   "source": [
    "!pip install cesiumpy"
   ]
  },
  {
   "cell_type": "markdown",
   "metadata": {
    "colab_type": "text",
    "id": "DcGXJcq5-SPQ"
   },
   "source": [
    "### cesiumpy\n",
    "* [sinhrks/cesiumpy](https://github.com/sinhrks/cesiumpy)\n",
    "* [cesiumpy’s documentation!](https://cesiumpy.readthedocs.io/en/latest/)\n",
    "\n",
    "* [Read External Files](https://cesiumpy.readthedocs.io/en/latest/io.html)\n",
    "\n",
    "### Qiita\n",
    "* [Jupyter Notebook上で3Dコロプレスマップを描写](https://qiita.com/Dr_Sin1/items/d8fdee795d7785e8a310)\n",
    "* [Pythonライブラリcesiumpyでバブルチャート、３D棒グラフを描画](https://qiita.com/takahi/items/d91499731dc83546db1c)\n"
   ]
  },
  {
   "cell_type": "code",
   "execution_count": 7,
   "metadata": {
    "colab": {},
    "colab_type": "code",
    "id": "9clSw-8O7-Wk"
   },
   "outputs": [
    {
     "name": "stdout",
     "output_type": "stream",
     "text": [
      "Requirement already satisfied: cesiumpy in c:\\users\\homata\\ubuntu_home\\workspace\\mcr\\mcrdash\\mcrdash\\.mcrdash\\lib\\site-packages (0.3.3)\n",
      "Requirement already satisfied: geopy>=1.11.0 in c:\\users\\homata\\ubuntu_home\\workspace\\mcr\\mcrdash\\mcrdash\\.mcrdash\\lib\\site-packages (from cesiumpy) (1.16.0)\n",
      "Requirement already satisfied: traitlets in c:\\users\\homata\\ubuntu_home\\workspace\\mcr\\mcrdash\\mcrdash\\.mcrdash\\lib\\site-packages (from cesiumpy) (4.3.2)\n",
      "Requirement already satisfied: six in c:\\users\\homata\\ubuntu_home\\workspace\\mcr\\mcrdash\\mcrdash\\.mcrdash\\lib\\site-packages (from cesiumpy) (1.11.0)\n",
      "Requirement already satisfied: geographiclib<2,>=1.49 in c:\\users\\homata\\ubuntu_home\\workspace\\mcr\\mcrdash\\mcrdash\\.mcrdash\\lib\\site-packages (from geopy>=1.11.0->cesiumpy) (1.49)\n",
      "Requirement already satisfied: ipython-genutils in c:\\users\\homata\\ubuntu_home\\workspace\\mcr\\mcrdash\\mcrdash\\.mcrdash\\lib\\site-packages (from traitlets->cesiumpy) (0.2.0)\n",
      "Requirement already satisfied: decorator in c:\\users\\homata\\ubuntu_home\\workspace\\mcr\\mcrdash\\mcrdash\\.mcrdash\\lib\\site-packages (from traitlets->cesiumpy) (4.1.2)\n"
     ]
    }
   ],
   "source": [
    "! pip install cesiumpy\n",
    "import cesiumpy"
   ]
  },
  {
   "cell_type": "code",
   "execution_count": 9,
   "metadata": {
    "colab": {
     "base_uri": "https://localhost:8080/",
     "height": 729
    },
    "colab_type": "code",
    "executionInfo": {
     "elapsed": 615,
     "status": "ok",
     "timestamp": 1568468331646,
     "user": {
      "displayName": "Hiroshi Omata",
      "photoUrl": "https://lh3.googleusercontent.com/a-/AAuE7mAmxAiFWXjB1ieYVGAo9GFS1ce4cGSe2i9aE3T6Gw=s64",
      "userId": "13724694233961387380"
     },
     "user_tz": -540
    },
    "id": "s0l9GOeI79DZ",
    "outputId": "8f8fa3c8-a1e4-4548-be10-a8b33d3658e8"
   },
   "outputs": [
    {
     "ename": "ImportError",
     "evalue": "shapely.geometry is required to use this functionality",
     "output_type": "error",
     "traceback": [
      "\u001b[1;31m---------------------------------------------------------------------------\u001b[0m",
      "\u001b[1;31mModuleNotFoundError\u001b[0m                       Traceback (most recent call last)",
      "\u001b[1;32mc:\\users\\homata\\ubuntu_home\\workspace\\mcr\\mcrdash\\mcrdash\\.mcrdash\\lib\\site-packages\\cesiumpy\\util\\common.py\u001b[0m in \u001b[0;36m_check_package\u001b[1;34m(package_name)\u001b[0m\n\u001b[0;32m     17\u001b[0m     \u001b[1;32mtry\u001b[0m\u001b[1;33m:\u001b[0m\u001b[1;33m\u001b[0m\u001b[1;33m\u001b[0m\u001b[0m\n\u001b[1;32m---> 18\u001b[1;33m         \u001b[1;32mreturn\u001b[0m \u001b[0mimportlib\u001b[0m\u001b[1;33m.\u001b[0m\u001b[0mimport_module\u001b[0m\u001b[1;33m(\u001b[0m\u001b[0mpackage_name\u001b[0m\u001b[1;33m)\u001b[0m\u001b[1;33m\u001b[0m\u001b[1;33m\u001b[0m\u001b[0m\n\u001b[0m\u001b[0;32m     19\u001b[0m     \u001b[1;32mexcept\u001b[0m \u001b[0mImportError\u001b[0m\u001b[1;33m:\u001b[0m\u001b[1;33m\u001b[0m\u001b[1;33m\u001b[0m\u001b[0m\n",
      "\u001b[1;32mC:\\Python36\\lib\\importlib\\__init__.py\u001b[0m in \u001b[0;36mimport_module\u001b[1;34m(name, package)\u001b[0m\n\u001b[0;32m    125\u001b[0m             \u001b[0mlevel\u001b[0m \u001b[1;33m+=\u001b[0m \u001b[1;36m1\u001b[0m\u001b[1;33m\u001b[0m\u001b[1;33m\u001b[0m\u001b[0m\n\u001b[1;32m--> 126\u001b[1;33m     \u001b[1;32mreturn\u001b[0m \u001b[0m_bootstrap\u001b[0m\u001b[1;33m.\u001b[0m\u001b[0m_gcd_import\u001b[0m\u001b[1;33m(\u001b[0m\u001b[0mname\u001b[0m\u001b[1;33m[\u001b[0m\u001b[0mlevel\u001b[0m\u001b[1;33m:\u001b[0m\u001b[1;33m]\u001b[0m\u001b[1;33m,\u001b[0m \u001b[0mpackage\u001b[0m\u001b[1;33m,\u001b[0m \u001b[0mlevel\u001b[0m\u001b[1;33m)\u001b[0m\u001b[1;33m\u001b[0m\u001b[1;33m\u001b[0m\u001b[0m\n\u001b[0m\u001b[0;32m    127\u001b[0m \u001b[1;33m\u001b[0m\u001b[0m\n",
      "\u001b[1;32mC:\\Python36\\lib\\importlib\\_bootstrap.py\u001b[0m in \u001b[0;36m_gcd_import\u001b[1;34m(name, package, level)\u001b[0m\n",
      "\u001b[1;32mC:\\Python36\\lib\\importlib\\_bootstrap.py\u001b[0m in \u001b[0;36m_find_and_load\u001b[1;34m(name, import_)\u001b[0m\n",
      "\u001b[1;32mC:\\Python36\\lib\\importlib\\_bootstrap.py\u001b[0m in \u001b[0;36m_find_and_load_unlocked\u001b[1;34m(name, import_)\u001b[0m\n",
      "\u001b[1;32mC:\\Python36\\lib\\importlib\\_bootstrap.py\u001b[0m in \u001b[0;36m_call_with_frames_removed\u001b[1;34m(f, *args, **kwds)\u001b[0m\n",
      "\u001b[1;32mC:\\Python36\\lib\\importlib\\_bootstrap.py\u001b[0m in \u001b[0;36m_gcd_import\u001b[1;34m(name, package, level)\u001b[0m\n",
      "\u001b[1;32mC:\\Python36\\lib\\importlib\\_bootstrap.py\u001b[0m in \u001b[0;36m_find_and_load\u001b[1;34m(name, import_)\u001b[0m\n",
      "\u001b[1;32mC:\\Python36\\lib\\importlib\\_bootstrap.py\u001b[0m in \u001b[0;36m_find_and_load_unlocked\u001b[1;34m(name, import_)\u001b[0m\n",
      "\u001b[1;31mModuleNotFoundError\u001b[0m: No module named 'shapely'",
      "\nDuring handling of the above exception, another exception occurred:\n",
      "\u001b[1;31mImportError\u001b[0m                               Traceback (most recent call last)",
      "\u001b[1;32m<ipython-input-9-d1e7b2a34fb6>\u001b[0m in \u001b[0;36m<module>\u001b[1;34m\u001b[0m\n\u001b[1;32m----> 1\u001b[1;33m \u001b[0mres\u001b[0m \u001b[1;33m=\u001b[0m \u001b[0mcesiumpy\u001b[0m\u001b[1;33m.\u001b[0m\u001b[0mio\u001b[0m\u001b[1;33m.\u001b[0m\u001b[0mread_geojson\u001b[0m\u001b[1;33m(\u001b[0m\u001b[1;34m'./kawasaki.geojson'\u001b[0m\u001b[1;33m)\u001b[0m\u001b[1;33m\u001b[0m\u001b[1;33m\u001b[0m\u001b[0m\n\u001b[0m\u001b[0;32m      2\u001b[0m \u001b[1;31m#type(res)\u001b[0m\u001b[1;33m\u001b[0m\u001b[1;33m\u001b[0m\u001b[1;33m\u001b[0m\u001b[0m\n",
      "\u001b[1;32mc:\\users\\homata\\ubuntu_home\\workspace\\mcr\\mcrdash\\mcrdash\\.mcrdash\\lib\\site-packages\\cesiumpy\\extension\\io.py\u001b[0m in \u001b[0;36mread_geojson\u001b[1;34m(path)\u001b[0m\n\u001b[0;32m     12\u001b[0m \u001b[1;32mdef\u001b[0m \u001b[0mread_geojson\u001b[0m\u001b[1;33m(\u001b[0m\u001b[0mpath\u001b[0m\u001b[1;33m)\u001b[0m\u001b[1;33m:\u001b[0m\u001b[1;33m\u001b[0m\u001b[1;33m\u001b[0m\u001b[0m\n\u001b[0;32m     13\u001b[0m \u001b[1;33m\u001b[0m\u001b[0m\n\u001b[1;32m---> 14\u001b[1;33m     \u001b[0msp\u001b[0m \u001b[1;33m=\u001b[0m \u001b[0mcom\u001b[0m\u001b[1;33m.\u001b[0m\u001b[0m_check_package\u001b[0m\u001b[1;33m(\u001b[0m\u001b[1;34m'shapely.geometry'\u001b[0m\u001b[1;33m)\u001b[0m\u001b[1;33m\u001b[0m\u001b[1;33m\u001b[0m\u001b[0m\n\u001b[0m\u001b[0;32m     15\u001b[0m \u001b[1;33m\u001b[0m\u001b[0m\n\u001b[0;32m     16\u001b[0m     \u001b[1;32mwith\u001b[0m \u001b[0mopen\u001b[0m\u001b[1;33m(\u001b[0m\u001b[0mpath\u001b[0m\u001b[1;33m)\u001b[0m \u001b[1;32mas\u001b[0m \u001b[0mf\u001b[0m\u001b[1;33m:\u001b[0m\u001b[1;33m\u001b[0m\u001b[1;33m\u001b[0m\u001b[0m\n",
      "\u001b[1;32mc:\\users\\homata\\ubuntu_home\\workspace\\mcr\\mcrdash\\mcrdash\\.mcrdash\\lib\\site-packages\\cesiumpy\\util\\common.py\u001b[0m in \u001b[0;36m_check_package\u001b[1;34m(package_name)\u001b[0m\n\u001b[0;32m     19\u001b[0m     \u001b[1;32mexcept\u001b[0m \u001b[0mImportError\u001b[0m\u001b[1;33m:\u001b[0m\u001b[1;33m\u001b[0m\u001b[1;33m\u001b[0m\u001b[0m\n\u001b[0;32m     20\u001b[0m         \u001b[0mmsg\u001b[0m \u001b[1;33m=\u001b[0m \u001b[1;34m'{pkg} is required to use this functionality'\u001b[0m\u001b[1;33m\u001b[0m\u001b[1;33m\u001b[0m\u001b[0m\n\u001b[1;32m---> 21\u001b[1;33m         \u001b[1;32mraise\u001b[0m \u001b[0mImportError\u001b[0m\u001b[1;33m(\u001b[0m\u001b[0mmsg\u001b[0m\u001b[1;33m.\u001b[0m\u001b[0mformat\u001b[0m\u001b[1;33m(\u001b[0m\u001b[0mpkg\u001b[0m\u001b[1;33m=\u001b[0m\u001b[0mpackage_name\u001b[0m\u001b[1;33m)\u001b[0m\u001b[1;33m)\u001b[0m\u001b[1;33m\u001b[0m\u001b[1;33m\u001b[0m\u001b[0m\n\u001b[0m\u001b[0;32m     22\u001b[0m \u001b[1;33m\u001b[0m\u001b[0m\n\u001b[0;32m     23\u001b[0m \u001b[1;33m\u001b[0m\u001b[0m\n",
      "\u001b[1;31mImportError\u001b[0m: shapely.geometry is required to use this functionality"
     ]
    }
   ],
   "source": [
    "res = cesiumpy.io.read_geojson('./kawasaki.geojson')\n",
    "#type(res)\n"
   ]
  },
  {
   "cell_type": "code",
   "execution_count": null,
   "metadata": {},
   "outputs": [],
   "source": [
    "\n",
    "\n",
    "b = cesiumpy.Box(dimensions=(40e4, 30e4, 50e4), material=cesiumpy.color.RED, position=[-120, 40, 0])\n",
    "v.entities.add(b)\n",
    "v\n",
    "\n",
    "#viewer = cesiumpy.Viewer()\n",
    "#viewer.entities.add(res, material='red')\n",
    "#viewer"
   ]
  }
 ],
 "metadata": {
  "colab": {
   "name": "cesiumpy.ipynb",
   "provenance": [],
   "version": "0.3.2"
  },
  "kernelspec": {
   "display_name": "Python 3",
   "language": "python",
   "name": "python3"
  },
  "language_info": {
   "codemirror_mode": {
    "name": "ipython",
    "version": 3
   },
   "file_extension": ".py",
   "mimetype": "text/x-python",
   "name": "python",
   "nbconvert_exporter": "python",
   "pygments_lexer": "ipython3",
   "version": "3.6.8"
  }
 },
 "nbformat": 4,
 "nbformat_minor": 1
}
